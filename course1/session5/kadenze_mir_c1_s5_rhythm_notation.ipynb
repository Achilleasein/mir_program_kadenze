{
 "cells": [
  {
   "cell_type": "markdown",
   "metadata": {},
   "source": [
    "# Rhythm notation  \n",
    "\n",
    "### George Tzanetakis, University of Victoria \n",
    "\n",
    "In this notebook we briefly overview rhythmic notation in western music. We will also introduce music21 a great Python framework for symbolic music processing and computational musicology. "
   ]
  },
  {
   "cell_type": "markdown",
   "metadata": {},
   "source": [
    "In order to get some intuition about how rhythm is notated we will be using Music21. This will allow us to easily create simple scores to illustrate the basic concepts and also be able to hear a MIDI rendering of the corresponding \n",
    "music. \n",
    "\n",
    "Notation is based on subdivision a unit called a whole note. This is notated by the first circle that you see below that has no vertical line attached to it. Typically music is organized in bars (otherwise known as measures) and the time signature at the start of the notation indicates how many rhythmic units are in each bar. The horizonal lines are called staff lines and are used to indicate the pitch that is going to be played. The vertical lines across the staff lines visually indicate the bars. A very common scenario and the one shown in this example is having 4 quarter notes per bar. The quarter notes are notated with black circles that have a vertical line attached to them. Notice the 4 quarter notes in the 3rd measure of the example below. In this example we show: one whole note, two half notes, four quarter notes, and 8 eighth notes. "
   ]
  },
  {
   "cell_type": "code",
   "execution_count": 1,
   "metadata": {},
   "outputs": [
    {
     "ename": "ModuleNotFoundError",
     "evalue": "No module named 'music21'",
     "output_type": "error",
     "traceback": [
      "\u001b[0;31m---------------------------------------------------------------------------\u001b[0m",
      "\u001b[0;31mModuleNotFoundError\u001b[0m                       Traceback (most recent call last)",
      "\u001b[0;32m<ipython-input-1-f4dd933e2cba>\u001b[0m in \u001b[0;36m<module>\u001b[0;34m\u001b[0m\n\u001b[0;32m----> 1\u001b[0;31m \u001b[0;32mimport\u001b[0m \u001b[0mmusic21\u001b[0m \u001b[0;32mas\u001b[0m \u001b[0mm21\u001b[0m\u001b[0;34m\u001b[0m\u001b[0;34m\u001b[0m\u001b[0m\n\u001b[0m\u001b[1;32m      2\u001b[0m \u001b[0;32mfrom\u001b[0m \u001b[0mmusic21\u001b[0m \u001b[0;32mimport\u001b[0m \u001b[0mmidi\u001b[0m\u001b[0;34m\u001b[0m\u001b[0;34m\u001b[0m\u001b[0m\n\u001b[1;32m      3\u001b[0m \u001b[0;34m\u001b[0m\u001b[0m\n\u001b[1;32m      4\u001b[0m \u001b[0mrhythm_notation\u001b[0m \u001b[0;34m=\u001b[0m \u001b[0mm21\u001b[0m\u001b[0;34m.\u001b[0m\u001b[0mconverter\u001b[0m\u001b[0;34m.\u001b[0m\u001b[0mparse\u001b[0m\u001b[0;34m(\u001b[0m\u001b[0;34m\"tinynotation: 4/4 f1 f2 f2 f4 f f f f8 f f f f f f f\"\u001b[0m\u001b[0;34m)\u001b[0m\u001b[0;34m\u001b[0m\u001b[0;34m\u001b[0m\u001b[0m\n\u001b[1;32m      5\u001b[0m \u001b[0msp\u001b[0m \u001b[0;34m=\u001b[0m \u001b[0mmidi\u001b[0m\u001b[0;34m.\u001b[0m\u001b[0mrealtime\u001b[0m\u001b[0;34m.\u001b[0m\u001b[0mStreamPlayer\u001b[0m\u001b[0;34m(\u001b[0m\u001b[0mrhythm_notation\u001b[0m\u001b[0;34m)\u001b[0m\u001b[0;34m\u001b[0m\u001b[0;34m\u001b[0m\u001b[0m\n",
      "\u001b[0;31mModuleNotFoundError\u001b[0m: No module named 'music21'"
     ]
    }
   ],
   "source": [
    "import music21 as m21 \n",
    "from music21 import midi \n",
    "\n",
    "rhythm_notation = m21.converter.parse(\"tinynotation: 4/4 f1 f2 f2 f4 f f f f8 f f f f f f f\")\n",
    "sp = midi.realtime.StreamPlayer(rhythm_notation)\n",
    "rhythm_notation.show()\n",
    "sp.play()"
   ]
  },
  {
   "cell_type": "markdown",
   "metadata": {},
   "source": [
    "Using the notation we described we can create more interesting rhythmic patterns by combining \n",
    "the symbols while ensuring that each bar has the correct number of rhythmic units. "
   ]
  },
  {
   "cell_type": "code",
   "execution_count": null,
   "metadata": {},
   "outputs": [],
   "source": [
    "rhythm_notation = m21.converter.parse(\"tinynotation: 4/4 f2 f4 f4 f4 f8 f8 f4 f8 f8 f4 f2 f4 f1\")\n",
    "sp = midi.realtime.StreamPlayer(rhythm_notation)\n",
    "rhythm_notation.show()\n",
    "sp.play()"
   ]
  },
  {
   "cell_type": "markdown",
   "metadata": {},
   "source": [
    "There are also symbols for rests that indicate a duration where nothing is played. Here is an example based on the previous one with some rests. It is created by simply replacing the note we have been using to play the rhythm (the symbol f) with a rest (the symbol r) in the tiny notation format of Music21. "
   ]
  },
  {
   "cell_type": "code",
   "execution_count": null,
   "metadata": {},
   "outputs": [],
   "source": [
    "rhythm_notation = m21.converter.parse(\"tinynotation: 4/4 f2 r4 f4 f4 f8 r8 f4 r8 f8 f4 r2 f4 f1\")\n",
    "sp = midi.realtime.StreamPlayer(rhythm_notation)\n",
    "rhythm_notation.show()\n",
    "sp.play()"
   ]
  },
  {
   "cell_type": "markdown",
   "metadata": {},
   "source": [
    "Let's look at a different time signature where each bar consists of 6 eighth notes. "
   ]
  },
  {
   "cell_type": "code",
   "execution_count": null,
   "metadata": {},
   "outputs": [],
   "source": [
    "rhythm_notation = m21.converter.parse(\"tinynotation: 6/8 f8 f8 f8 f8 f8 f8 f4. f8 f8 f8 f2.\")\n",
    "sp = midi.realtime.StreamPlayer(rhythm_notation)\n",
    "rhythm_notation.show()\n",
    "sp.play()"
   ]
  },
  {
   "cell_type": "markdown",
   "metadata": {},
   "source": [
    "Although our focus is rhythm let's hear some melodies with the same rhythm so that you can hear how the rhythm remains the same but the melody changes. \n"
   ]
  },
  {
   "cell_type": "code",
   "execution_count": null,
   "metadata": {},
   "outputs": [],
   "source": [
    "rhythm_notation = m21.converter.parse(\"tinynotation: 6/8 f8 g8 a8 a8 g8 f8 f4. g8 f8 g8 a2.\")\n",
    "sp = midi.realtime.StreamPlayer(rhythm_notation)\n",
    "rhythm_notation.show()\n",
    "sp.play()"
   ]
  },
  {
   "cell_type": "code",
   "execution_count": null,
   "metadata": {},
   "outputs": [],
   "source": [
    "rhythm_notation = m21.converter.parse(\"tinynotation: 6/8 f8 d8 e8 f8 g8 a8 a4. g8 f8 e8 d2.\")\n",
    "sp = midi.realtime.StreamPlayer(rhythm_notation)\n",
    "rhythm_notation.show()\n",
    "sp.play()"
   ]
  },
  {
   "cell_type": "markdown",
   "metadata": {},
   "source": [
    "We have barely scratched the surface of rhythmic music notation. Notice that all the examples we looked at where played at a default tempo. Music notation for rhythm is all relative so the notation does not change if the same rhythmic pattern is played faster or slower. "
   ]
  },
  {
   "cell_type": "code",
   "execution_count": null,
   "metadata": {},
   "outputs": [],
   "source": []
  }
 ],
 "metadata": {
  "kernelspec": {
   "display_name": "Python 3",
   "language": "python",
   "name": "python3"
  },
  "language_info": {
   "codemirror_mode": {
    "name": "ipython",
    "version": 3
   },
   "file_extension": ".py",
   "mimetype": "text/x-python",
   "name": "python",
   "nbconvert_exporter": "python",
   "pygments_lexer": "ipython3",
   "version": "3.7.1"
  }
 },
 "nbformat": 4,
 "nbformat_minor": 2
}
