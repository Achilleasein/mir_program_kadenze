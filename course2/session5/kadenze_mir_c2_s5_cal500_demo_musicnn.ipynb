{
 "cells": [
  {
   "cell_type": "markdown",
   "metadata": {},
   "source": [
    "# CAL500 examples with tags predicted using musicnn: a deep learning neural network for tagging by Jordi Pons \n",
    "\n",
    "\n",
    "In this notebook we will use a current (in 2020) state-of-the-art autotagger called **musicnn** to predict the tags for 3 example tracks from the CAL500 dataset. "
   ]
  },
  {
   "cell_type": "code",
   "execution_count": 7,
   "metadata": {},
   "outputs": [],
   "source": [
    "file_name1 = './audio/aaron_neville-tell_it_like_it_is.wav'\n",
    "file_name2 = './audio/a_tribe_called_quest-bonita_applebum.wav'\n",
    "file_name3 = './audio/ac_dc-dirty_deeds_done_dirt_cheap.wav'"
   ]
  },
  {
   "cell_type": "markdown",
   "metadata": {},
   "source": [
    "Use musicnn model trained with the [MagnaTagATune](https://github.com/keunwoochoi/magnatagatune-list) dataset – the `MTT_musicnn` model:"
   ]
  },
  {
   "cell_type": "code",
   "execution_count": 5,
   "metadata": {},
   "outputs": [
    {
     "name": "stdout",
     "output_type": "stream",
     "text": [
      "Computing spectrogram (w/ librosa) and tags (w/ tensorflow).. done!\n",
      "[./audio/aaron_neville-tell_it_like_it_is.wav] Top10 tags: \n",
      " - guitar\n",
      " - vocal\n",
      " - male vocal\n",
      " - man\n",
      " - male\n",
      " - singing\n",
      " - pop\n",
      " - vocals\n",
      " - country\n",
      " - male voice\n",
      "Computing spectrogram (w/ librosa) and tags (w/ tensorflow).. done!\n",
      "[./audio/a_tribe_called_quest-bonita_applebum.wav] Top10 tags: \n",
      " - beat\n",
      " - drums\n",
      " - techno\n",
      " - electronic\n",
      " - vocal\n",
      " - female\n",
      " - synth\n",
      " - vocals\n",
      " - pop\n",
      " - beats\n",
      "Computing spectrogram (w/ librosa) and tags (w/ tensorflow).. done!\n",
      "[./audio/ac_dc-dirty_deeds_done_dirt_cheap.wav] Top10 tags: \n",
      " - rock\n",
      " - guitar\n",
      " - drums\n",
      " - pop\n",
      " - vocal\n",
      " - male\n",
      " - female\n",
      " - singing\n",
      " - male vocal\n",
      " - vocals\n"
     ]
    },
    {
     "data": {
      "text/plain": [
       "['rock',\n",
       " 'guitar',\n",
       " 'drums',\n",
       " 'pop',\n",
       " 'vocal',\n",
       " 'male',\n",
       " 'female',\n",
       " 'singing',\n",
       " 'male vocal',\n",
       " 'vocals']"
      ]
     },
     "execution_count": 5,
     "metadata": {},
     "output_type": "execute_result"
    }
   ],
   "source": [
    "from musicnn.tagger import top_tags\n",
    "top_tags(file_name1, model='MTT_musicnn', topN=10)\n",
    "top_tags(file_name2, model='MTT_musicnn', topN=10)\n",
    "top_tags(file_name3, model='MTT_musicnn', topN=10)"
   ]
  },
  {
   "cell_type": "markdown",
   "metadata": {},
   "source": [
    "Use the Million Song Dataset trained nodel"
   ]
  },
  {
   "cell_type": "code",
   "execution_count": 6,
   "metadata": {},
   "outputs": [
    {
     "name": "stdout",
     "output_type": "stream",
     "text": [
      "Computing spectrogram (w/ librosa) and tags (w/ tensorflow).. done!\n",
      "[./audio/aaron_neville-tell_it_like_it_is.wav] Top10 tags: \n",
      " - soul\n",
      " - country\n",
      " - oldies\n",
      " - pop\n",
      " - 60s\n",
      " - jazz\n",
      " - rock\n",
      " - blues\n",
      " - 70s\n",
      " - female vocalists\n",
      "Computing spectrogram (w/ librosa) and tags (w/ tensorflow).. done!\n",
      "[./audio/a_tribe_called_quest-bonita_applebum.wav] Top10 tags: \n",
      " - Hip-Hop\n",
      " - chillout\n",
      " - soul\n",
      " - electronic\n",
      " - funk\n",
      " - rnb\n",
      " - chill\n",
      " - jazz\n",
      " - pop\n",
      " - rock\n",
      "Computing spectrogram (w/ librosa) and tags (w/ tensorflow).. done!\n",
      "[./audio/ac_dc-dirty_deeds_done_dirt_cheap.wav] Top10 tags: \n",
      " - rock\n",
      " - classic rock\n",
      " - hard rock\n",
      " - 80s\n",
      " - punk\n",
      " - heavy metal\n",
      " - 70s\n",
      " - pop\n",
      " - female vocalists\n",
      " - metal\n"
     ]
    },
    {
     "data": {
      "text/plain": [
       "['rock',\n",
       " 'classic rock',\n",
       " 'hard rock',\n",
       " '80s',\n",
       " 'punk',\n",
       " 'heavy metal',\n",
       " '70s',\n",
       " 'pop',\n",
       " 'female vocalists',\n",
       " 'metal']"
      ]
     },
     "execution_count": 6,
     "metadata": {},
     "output_type": "execute_result"
    }
   ],
   "source": [
    "top_tags(file_name1, model='MSD_musicnn', topN=10)\n",
    "top_tags(file_name2, model='MSD_musicnn', topN=10)\n",
    "top_tags(file_name3, model='MSD_musicnn', topN=10)"
   ]
  },
  {
   "cell_type": "code",
   "execution_count": null,
   "metadata": {},
   "outputs": [],
   "source": []
  }
 ],
 "metadata": {
  "kernelspec": {
   "display_name": "Python 3",
   "language": "python",
   "name": "python3"
  },
  "language_info": {
   "codemirror_mode": {
    "name": "ipython",
    "version": 3
   },
   "file_extension": ".py",
   "mimetype": "text/x-python",
   "name": "python",
   "nbconvert_exporter": "python",
   "pygments_lexer": "ipython3",
   "version": "3.7.1"
  }
 },
 "nbformat": 4,
 "nbformat_minor": 2
}
