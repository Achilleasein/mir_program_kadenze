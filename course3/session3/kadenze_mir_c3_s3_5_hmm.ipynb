{
 "cells": [
  {
   "cell_type": "markdown",
   "metadata": {},
   "source": [
    "# Markov Chains and Hidden Markov Models  \n",
    "\n",
    "### George Tzanetakis, University of Victoria \n",
    "\n",
    "In this notebook we will explore hidden markov models. We start with random variables and a simple independent, identically distributed model for weather. Then we look into how to form a Markov Chain to transition between states and finally we sample a Hidden Markov Model to show how the samples are generated based on the Markov Chain of the hidden states. The results are visualized as strips of colored rectangles. Experiments with the transition probabilities and the emission probabilities can lead to better understanding of how Hidden Markov Models work in terms of generating data. \n",
    "\n",
    "The notebook ends by creating by hand a simple discrete HMM for generating chords. The results are displayed as a score as well as played. \n"
   ]
  },
  {
   "cell_type": "markdown",
   "metadata": {},
   "source": [
    "The usual helper Random Variable class "
   ]
  },
  {
   "cell_type": "code",
   "execution_count": 1,
   "metadata": {},
   "outputs": [],
   "source": [
    "%matplotlib inline \n",
    "import matplotlib.pyplot as plt\n",
    "from scipy import stats\n",
    "import numpy as np\n",
    "from hmmlearn import hmm\n",
    "\n",
    "\n",
    "\n",
    "class Random_Variable: \n",
    "    \n",
    "    def __init__(self, name, values, probability_distribution): \n",
    "        self.name = name \n",
    "        self.values = values \n",
    "        self.probability_distribution = probability_distribution \n",
    "        if all(type(item) is np.int64 for item in values): \n",
    "            self.type = 'numeric'\n",
    "            self.rv = stats.rv_discrete(name = name, values = (values, probability_distribution))\n",
    "        elif all(type(item) is str for item in values): \n",
    "            self.type = 'symbolic'\n",
    "            self.rv = stats.rv_discrete(name = name, values = (np.arange(len(values)), probability_distribution))\n",
    "            self.symbolic_values = values \n",
    "        else: \n",
    "            self.type = 'undefined'\n",
    "            \n",
    "    def sample(self,size): \n",
    "        if (self.type =='numeric'): \n",
    "            return self.rv.rvs(size=size)\n",
    "        elif (self.type == 'symbolic'): \n",
    "            numeric_samples = self.rv.rvs(size=size)\n",
    "            mapped_samples = [self.values[x] for x in numeric_samples]\n",
    "            return mapped_samples \n",
    "        \n",
    "    def probs(self): \n",
    "        return self.probability_distribution\n",
    "    \n",
    "    def vals(self): \n",
    "        print(self.type)\n",
    "        return self.values \n",
    "            \n",
    "        "
   ]
  },
  {
   "cell_type": "markdown",
   "metadata": {},
   "source": [
    "### Generating random weather samples with a IID model with no time dependencies \n",
    "\n",
    "Let's first create some random samples of a symbolic random variable corresponding to the weather with two values Sunny (S) and cloudy (C) and generate random weather for 365 days. The assumption in this model is that the weather of each day is indepedent of the previous days and drawn from the same probability distribution. "
   ]
  },
  {
   "cell_type": "code",
   "execution_count": 2,
   "metadata": {},
   "outputs": [
    {
     "name": "stdout",
     "output_type": "stream",
     "text": [
      "C,S,C,S,C,S,C,C,C,S,C,S,C,S,S,S,S,C,C,C,C,S,C,S,C,C,C,S,S,S,S,S,S,S,C,C,S,C,C,C,C,S,S,S,S,S,S,C,C,S,S,S,S,S,C,S,C,C,C,S,C,C,C,S,S,C,S,S,C,S,C,C,C,C,S,S,S,C,C,C,C,C,S,C,C,C,S,C,C,C,S,S,S,C,C,C,C,C,C,S,S,C,S,C,S,S,C,C,S,C,S,S,C,S,S,C,C,C,S,S,S,C,S,C,S,C,S,S,S,C,C,C,S,C,C,S,C,S,S,S,S,S,C,S,C,C,C,C,C,S,C,S,C,S,S,C,C,C,C,S,S,S,C,S,S,C,C,C,C,C,C,S,S,C,S,C,C,S,S,C,C,C,S,C,C,C,S,S,C,S,C,S,S,C,S,C,S,S,C,C,S,C,S,S,C,C,S,S,C,S,S,S,S,S,C,C,S,C,S,S,S,S,C,S,C,S,S,S,C,C,C,C,S,C,C,C,S,C,C,S,C,C,C,S,C,C,S,C,S,S,S,C,C,S,C,S,S,C,S,S,C,S,C,S,S,C,C,C,C,S,S,C,C,C,C,C,C,S,C,S,C,C,C,C,C,S,C,S,S,C,C,S,C,S,S,C,S,S,S,C,S,S,S,C,S,C,C,S,C,S,S,S,C,C,S,S,C,S,S,C,S,S,C,C,S,S,S,S,S,C,C,S,S,S,C,C,C,C,C,S,C,S,C,S,C,C,C,S,S,C,S,C,C,C,C,S,C,S,C,C,S,C,S,S,C\n"
     ]
    }
   ],
   "source": [
    "values = ['S', 'C']\n",
    "probabilities = [0.5, 0.5]\n",
    "weather = Random_Variable('weather', values, probabilities)\n",
    "samples = weather.sample(365)\n",
    "print(\",\".join(samples))"
   ]
  },
  {
   "cell_type": "markdown",
   "metadata": {},
   "source": [
    "Now let lets visualize these samples using yellow for sunny and grey for cloudy "
   ]
  },
  {
   "cell_type": "code",
   "execution_count": 3,
   "metadata": {},
   "outputs": [
    {
     "data": {
      "image/png": "[encoded data removed]",
      "text/plain": [
       "<Figure size 720x72 with 1 Axes>"
      ]
     },
     "metadata": {
      "needs_background": "light"
     },
     "output_type": "display_data"
    }
   ],
   "source": [
    "state2color = {} \n",
    "state2color['S'] = 'yellow'\n",
    "state2color['C'] = 'grey'\n",
    "\n",
    "def plot_weather_samples(samples, state2color, title): \n",
    "    colors = [state2color[x] for x in samples]\n",
    "    x = np.arange(0, len(colors))\n",
    "    y = np.ones(len(colors))\n",
    "    plt.figure(figsize=(10,1))\n",
    "    plt.bar(x, y, color=colors, width=1)\n",
    "    plt.title(title)\n",
    "    \n",
    "plot_weather_samples(samples, state2color, 'iid')\n"
   ]
  },
  {
   "cell_type": "markdown",
   "metadata": {},
   "source": [
    "### Markov Chain \n",
    "\n",
    "Now instead of independently sampling the weather random variable lets form a markov chain. \n",
    "The Markov chain will start at a particular state and then will either stay in the same state or transition to a different state based on a transition probability matrix. To accomplish that we basically create a random variable for each row of the transition matrix that basically corresponds to the probabilities of the transitions emanating fromt the state corresponding to that row. Then we can use the markov chain to generate sequences of samples and contrast these sequence with the iid weather model. By adjusting the transition probabilities you can in a probabilistic way control the different lengths of \"stretches\" of the same state. \n"
   ]
  },
  {
   "cell_type": "code",
   "execution_count": 4,
   "metadata": {},
   "outputs": [
    {
     "data": {
      "image/png": "[encoded data removed]",
      "text/plain": [
       "<Figure size 720x72 with 1 Axes>"
      ]
     },
     "metadata": {
      "needs_background": "light"
     },
     "output_type": "display_data"
    },
    {
     "data": {
      "image/png": "[encoded data removed]",
      "text/plain": [
       "<Figure size 720x72 with 1 Axes>"
      ]
     },
     "metadata": {
      "needs_background": "light"
     },
     "output_type": "display_data"
    },
    {
     "data": {
      "image/png": "[encoded data removed]",
      "text/plain": [
       "<Figure size 720x72 with 1 Axes>"
      ]
     },
     "metadata": {
      "needs_background": "light"
     },
     "output_type": "display_data"
    },
    {
     "data": {
      "image/png": "[encoded data removed]",
      "text/plain": [
       "<Figure size 720x72 with 1 Axes>"
      ]
     },
     "metadata": {
      "needs_background": "light"
     },
     "output_type": "display_data"
    }
   ],
   "source": [
    "def markov_chain(transmat, state, state_names, samples): \n",
    "    (rows, cols) = transmat.shape \n",
    "    rvs = [] \n",
    "    values = list(np.arange(0,rows))\n",
    "    \n",
    "    # create random variables for each row of transition matrix \n",
    "    for r in range(rows): \n",
    "        rv = Random_Variable(\"row\" + str(r), values, transmat[r])\n",
    "        rvs.append(rv)\n",
    "    \n",
    "    # start from initial state and then sample the appropriate \n",
    "    # random variable based on the state following the transitions \n",
    "    states = [] \n",
    "    for n in range(samples): \n",
    "        state = rvs[state].sample(1)[0]    \n",
    "        states.append(state_names[state])\n",
    "    return states\n",
    "\n",
    "\n",
    "# transition matrices for the Markov Chain \n",
    "transmat1 = np.array([[0.7, 0.3], \n",
    "                    [0.2, 0.8]])\n",
    "\n",
    "transmat2 = np.array([[0.9, 0.1], \n",
    "                    [0.1, 0.9]])\n",
    "\n",
    "transmat3 = np.array([[0.5, 0.5], \n",
    "                     [0.5, 0.5]])\n",
    "\n",
    "state2color = {} \n",
    "state2color['S'] = 'yellow'\n",
    "state2color['C'] = 'grey'\n",
    "\n",
    "# plot the iid model too\n",
    "samples = weather.sample(365)\n",
    "plot_weather_samples(samples, state2color, 'iid')\n",
    "\n",
    "samples1 = markov_chain(transmat1,0,['S','C'], 365)\n",
    "plot_weather_samples(samples1, state2color, 'markov chain 1')\n",
    "\n",
    "samples2 = markov_chain(transmat2,0,['S','C'],365)\n",
    "plot_weather_samples(samples2, state2color, 'marov_chain 2')\n",
    "\n",
    "samples3 = markov_chain(transmat3,0,['S','C'], 365)\n",
    "plot_weather_samples(samples3, state2color, 'markov_chain 3')\n",
    "\n",
    "\n"
   ]
  },
  {
   "cell_type": "markdown",
   "metadata": {},
   "source": [
    "### Generating samples using a Hidden Markov Model \n",
    "\n",
    "Lets now look at how a Hidden Markov Model would work by having a Markov Chain to generate \n",
    "a sequence of states and for each state having a different emission probability. When sunny we will output red or yellow with higher probabilities and when cloudy black or blue. First we will write the code directly and then we will use the hmmlearn package. \n"
   ]
  },
  {
   "cell_type": "code",
   "execution_count": 5,
   "metadata": {},
   "outputs": [
    {
     "data": {
      "image/png": "[encoded data removed]",
      "text/plain": [
       "<Figure size 720x72 with 1 Axes>"
      ]
     },
     "metadata": {
      "needs_background": "light"
     },
     "output_type": "display_data"
    },
    {
     "data": {
      "image/png": "[encoded data removed]",
      "text/plain": [
       "<Figure size 720x72 with 1 Axes>"
      ]
     },
     "metadata": {
      "needs_background": "light"
     },
     "output_type": "display_data"
    },
    {
     "data": {
      "image/png": "[encoded data removed]",
      "text/plain": [
       "<Figure size 720x72 with 1 Axes>"
      ]
     },
     "metadata": {
      "needs_background": "light"
     },
     "output_type": "display_data"
    },
    {
     "data": {
      "image/png": "[encoded data removed]",
      "text/plain": [
       "<Figure size 720x72 with 1 Axes>"
      ]
     },
     "metadata": {
      "needs_background": "light"
     },
     "output_type": "display_data"
    }
   ],
   "source": [
    "state2color = {} \n",
    "state2color['S'] = 'yellow'\n",
    "state2color['C'] = 'grey'\n",
    "\n",
    "# generate random samples for a year \n",
    "samples = weather.sample(365)\n",
    "states = markov_chain(transmat1,0,['S','C'], 365)\n",
    "plot_weather_samples(states, state2color, \"markov chain 1\")\n",
    "\n",
    "# create two random variables one of the sunny state and one for the cloudy \n",
    "sunny_colors = Random_Variable('sunny_colors', ['y', 'r', 'b', 'g'], \n",
    "                              [0.6, 0.3, 0.1, 0.0])\n",
    "cloudy_colors = Random_Variable('cloudy_colors', ['y', 'r', 'b', 'g'], \n",
    "                               [0.0, 0.1, 0.4, 0.5])\n",
    "\n",
    "def emit_obs(state, sunny_colors, cloudy_colors): \n",
    "    if (state == 'S'): \n",
    "        obs = sunny_colors.sample(1)[0]\n",
    "    else: \n",
    "        obs = cloudy_colors.sample(1)[0]\n",
    "    return obs \n",
    "\n",
    "# iterate over the sequence of states and emit color based on the emission probabilities \n",
    "obs = [emit_obs(s, sunny_colors, cloudy_colors) for s in states]\n",
    "\n",
    "obs2color = {} \n",
    "obs2color['y'] = 'yellow'\n",
    "obs2color['r'] = 'red'\n",
    "obs2color['b'] = 'blue'\n",
    "obs2color['g'] = 'grey'\n",
    "plot_weather_samples(obs, obs2color, \"Observed sky color\")\n",
    "\n",
    "# let's zoom in a month \n",
    "plot_weather_samples(states[0:30], state2color, 'states for a month')\n",
    "plot_weather_samples(obs[0:30], obs2color, 'observations for a month')\n",
    "\n"
   ]
  },
  {
   "cell_type": "markdown",
   "metadata": {},
   "source": [
    "### Multinomial HMM \n",
    "\n",
    "Lets do the same generation process using the multinomail HMM model supported by the *hmmlearn* python package. \n"
   ]
  },
  {
   "cell_type": "code",
   "execution_count": 6,
   "metadata": {},
   "outputs": [
    {
     "data": {
      "image/png": "[encoded data removed]",
      "text/plain": [
       "<Figure size 720x72 with 1 Axes>"
      ]
     },
     "metadata": {
      "needs_background": "light"
     },
     "output_type": "display_data"
    },
    {
     "data": {
      "image/png": "[encoded data removed]",
      "text/plain": [
       "<Figure size 720x72 with 1 Axes>"
      ]
     },
     "metadata": {
      "needs_background": "light"
     },
     "output_type": "display_data"
    }
   ],
   "source": [
    "transmat = np.array([[0.7, 0.3], \n",
    "                    [0.2, 0.8]])\n",
    "\n",
    "start_prob = np.array([1.0, 0.0])\n",
    "\n",
    "# yellow and red have high probs for sunny \n",
    "# blue and grey have high probs for cloudy \n",
    "emission_probs = np.array([[0.6, 0.3, 0.1, 0.0], \n",
    "                           [0.0, 0.1, 0.4, 0.5]])\n",
    "\n",
    "model = hmm.MultinomialHMM(n_components=2)\n",
    "model.startprob_ = start_prob \n",
    "model.transmat_ = transmat \n",
    "model.emissionprob_ = emission_probs\n",
    "\n",
    "# sample the model - X is the observed values \n",
    "# and Z is the \"hidden\" states \n",
    "X, Z = model.sample(365)\n",
    "\n",
    "# we have to re-define state2color and obj2color as the hmm-learn \n",
    "# package just outputs numbers for the states \n",
    "state2color = {} \n",
    "state2color[0] = 'yellow'\n",
    "state2color[1] = 'grey'\n",
    "plot_weather_samples(Z, state2color, 'states')\n",
    "\n",
    "samples = [item for sublist in X for item in sublist]\n",
    "obj2color = {} \n",
    "obj2color[0] = 'yellow'\n",
    "obj2color[1] = 'red'\n",
    "obj2color[2] = 'blue'\n",
    "obj2color[3] = 'grey'\n",
    "plot_weather_samples(samples, obj2color, 'observations')\n"
   ]
  },
  {
   "cell_type": "markdown",
   "metadata": {},
   "source": [
    "### Estimating the parameters of an HMM \n",
    "\n",
    "Let's sample the generative HMM and get a sequence of 1000 observations. Now we can learn in an unsupervised way the paraemters of a two component multinomial HMM just using these observations. Then we can compare the learned parameters with the original parameters of the model used to generate the observations. Notice that the order of the components is different between the original and estimated models. Notice that hmmlearn does NOT directly support supervised training where you have both the labels and observations. It is possible to initialize a HMM model with some of the parameters and learn the others. For example you can initialize the transition matrix and learn the emission probabilities. That way you could implement supervised learning for a multinomial HMM. In many practical applications the hidden labels are not available and that's the hard case that is implemented. \n"
   ]
  },
  {
   "cell_type": "code",
   "execution_count": 9,
   "metadata": {},
   "outputs": [],
   "source": [
    "# generate the samples \n",
    "X, Z = model.sample(10000)\n",
    "# learn a new model \n",
    "estimated_model = hmm.MultinomialHMM(n_components=2, n_iter=10000).fit(X)\n"
   ]
  },
  {
   "cell_type": "markdown",
   "metadata": {},
   "source": [
    "Let's compare the estimated model parameters with the original model. "
   ]
  },
  {
   "cell_type": "code",
   "execution_count": 10,
   "metadata": {},
   "outputs": [
    {
     "name": "stdout",
     "output_type": "stream",
     "text": [
      "Transition matrix\n",
      "Estimated model:\n",
      "[[0.8097587  0.1902413 ]\n",
      " [0.31028373 0.68971627]]\n",
      "Original model:\n",
      "[[0.7 0.3]\n",
      " [0.2 0.8]]\n",
      "Emission probabilities\n",
      "Estimated model\n",
      "[[0.0050095  0.1233319  0.40170229 0.46995631]\n",
      " [0.63095394 0.27868831 0.08739649 0.00296126]]\n",
      "Original model\n",
      "[[0.6 0.3 0.1 0. ]\n",
      " [0.  0.1 0.4 0.5]]\n"
     ]
    }
   ],
   "source": [
    "print(\"Transition matrix\")\n",
    "print(\"Estimated model:\")\n",
    "print(estimated_model.transmat_)\n",
    "print(\"Original model:\")\n",
    "print(model.transmat_)\n",
    "print(\"Emission probabilities\")\n",
    "print(\"Estimated model\")\n",
    "print(estimated_model.emissionprob_)\n",
    "print(\"Original model\")\n",
    "print(model.emissionprob_)"
   ]
  },
  {
   "cell_type": "markdown",
   "metadata": {},
   "source": [
    "### Predicting a sequence of states given a sequence of observations\n",
    "\n",
    "We can also use the trained HMM model to predict a sequence of hidden states given a sequence of observations. This is the tasks of maximum likelihood sequence estimation. For example in Speech Recognition it would correspond to estimating a sequence of phonemes (hidden states) from a sequence of observations (acoustic vectors). \n"
   ]
  },
  {
   "cell_type": "code",
   "execution_count": 11,
   "metadata": {},
   "outputs": [
    {
     "data": {
      "image/png": "[encoded data removed]",
      "text/plain": [
       "<Figure size 720x72 with 1 Axes>"
      ]
     },
     "metadata": {
      "needs_background": "light"
     },
     "output_type": "display_data"
    },
    {
     "data": {
      "image/png": "[encoded data removed]",
      "text/plain": [
       "<Figure size 720x72 with 1 Axes>"
      ]
     },
     "metadata": {
      "needs_background": "light"
     },
     "output_type": "display_data"
    },
    {
     "data": {
      "image/png": "[encoded data removed]",
      "text/plain": [
       "<Figure size 720x72 with 1 Axes>"
      ]
     },
     "metadata": {
      "needs_background": "light"
     },
     "output_type": "display_data"
    }
   ],
   "source": [
    "Z2 = estimated_model.predict(X)\n",
    "state2color = {} \n",
    "state2color[0] = 'yellow'\n",
    "state2color[1] = 'grey'\n",
    "plot_weather_samples(Z, state2color, 'Original states')\n",
    "plot_weather_samples(Z2, state2color, 'Predicted states')\n",
    "\n",
    "# note the reversal of colors for the states as the order of components is not the same. \n",
    "# we can easily fix this by change the state2color \n",
    "state2color = {} \n",
    "state2color[1] = 'yellow'\n",
    "state2color[0] = 'grey'\n",
    "plot_weather_samples(Z2, state2color, 'Flipped Predicted states')\n",
    "\n",
    "\n"
   ]
  },
  {
   "cell_type": "markdown",
   "metadata": {},
   "source": [
    "The estimated model can also be sampled just like the original model "
   ]
  },
  {
   "cell_type": "code",
   "execution_count": 12,
   "metadata": {},
   "outputs": [
    {
     "data": {
      "image/png": "[encoded data removed]",
      "text/plain": [
       "<Figure size 720x72 with 1 Axes>"
      ]
     },
     "metadata": {
      "needs_background": "light"
     },
     "output_type": "display_data"
    },
    {
     "data": {
      "image/png": "[encoded data removed]",
      "text/plain": [
       "<Figure size 720x72 with 1 Axes>"
      ]
     },
     "metadata": {
      "needs_background": "light"
     },
     "output_type": "display_data"
    }
   ],
   "source": [
    "X, Z = estimated_model.sample(365)\n",
    "\n",
    "state2color = {} \n",
    "state2color[0] = 'yellow'\n",
    "state2color[1] = 'grey'\n",
    "plot_weather_samples(Z, state2color, 'states generated by estimated model ')\n",
    "\n",
    "samples = [item for sublist in X for item in sublist]\n",
    "obs2color = {} \n",
    "obs2color[0] = 'yellow'\n",
    "obs2color[1] = 'red'\n",
    "obs2color[2] = 'blue'\n",
    "obs2color[3] = 'grey'\n",
    "plot_weather_samples(samples, obs2color, 'observations generated by estimated model')\n",
    "\n"
   ]
  },
  {
   "cell_type": "markdown",
   "metadata": {},
   "source": [
    "### A HMM example using Chords \n",
    "\n",
    "\n",
    "Let's do pretend music example by having the states model a chord progression consisting of D (II), G(V), C (I) chords and the observations consist of chord type i.e whether they are minor7, major7, or dominant7. This is an extremely simplified model of how harmony works but it does do a bit better than random. "
   ]
  },
  {
   "cell_type": "code",
   "execution_count": 13,
   "metadata": {},
   "outputs": [
    {
     "name": "stdout",
     "output_type": "stream",
     "text": [
      "['D', 'G', 'C', 'C', 'G', 'C', 'G', 'C', 'C', 'G']\n",
      "['min7', 'maj7', 'min7', 'maj7', 'min7', 'maj7', 'min7', 'maj7', 'min7', 'maj7']\n",
      "['Dmin7', 'Gmaj7', 'Cmin7', 'Cmaj7', 'Gmin7', 'Cmaj7', 'Gmin7', 'Cmaj7', 'Cmin7', 'Gmaj7']\n"
     ]
    }
   ],
   "source": [
    "\n",
    "# probabities of each state D(II), G(V), C(I). The transitions are semi-plausible but set by hand. \n",
    "# in a full problem they would be learned from data \n",
    "transmat = np.array([[0.4, 0.4, 0.2], \n",
    "                    [0.1, 0.1, 0.8], \n",
    "                    [0.0, 0.3, 0.7]])\n",
    "\n",
    "start_prob = np.array([1.0, 0.0, 0.0])\n",
    "\n",
    "# the emission probabilities are also set by hand and semi-plausible and correspond \n",
    "# to the probability that a chord is dominant, minor or major 7th. Notice for example \n",
    "# that if the chord is a C(I) (the third row then it will never be a dominant chord the \n",
    "# last 0.0 in that row \n",
    "emission_probs = np.array([[0.4, 0.0, 0.4], \n",
    "                           [0.3, 0.3, 0.3],\n",
    "                           [0.2, 0.8, 0.0]]) \n",
    "                          \n",
    "\n",
    "chord_model = hmm.MultinomialHMM(n_components=3)\n",
    "chord_model.startprob_ = start_prob \n",
    "chord_model.transmat_ = transmat \n",
    "chord_model.emissionprob_ = emission_probs\n",
    "\n",
    "X, Z = chord_model.sample(10)\n",
    "state2name = {} \n",
    "state2name[0] = 'D'\n",
    "state2name[1] = 'G'\n",
    "state2name[2] = 'C'\n",
    "chords = [state2name[state] for state in Z]\n",
    "print(chords)\n",
    "\n",
    "obj2name = {}\n",
    "obj2name[0] = 'min7'\n",
    "obj2name[1] = 'maj7'\n",
    "obj2name[2] = '7'\n",
    "observations = [obj2name[item] for sublist in X for item in sublist]\n",
    "print(observations)\n",
    "\n",
    "chords = [''.join(chord) for chord in zip(chords,observations)]\n",
    "print(chords)"
   ]
  },
  {
   "cell_type": "markdown",
   "metadata": {},
   "source": [
    "###  Playing back the generated chords\n",
    "\n",
    "Now that we have generated a sequence of chords symbols with a little bit of work we can play it back using Music21 "
   ]
  },
  {
   "cell_type": "code",
   "execution_count": 15,
   "metadata": {},
   "outputs": [
    {
     "name": "stdout",
     "output_type": "stream",
     "text": [
      "(<music21.pitch.Pitch G4>, <music21.pitch.Pitch B-4>, <music21.pitch.Pitch D5>, <music21.pitch.Pitch F5>)\n",
      "<music21.stream.Stream 0x133f9e390>\n"
     ]
    }
   ],
   "source": [
    "from music21 import *\n",
    "\n",
    "# create some chords for II, V, I \n",
    "d7 = chord.Chord(['D4','F4', 'A4', 'C5'])\n",
    "dmin7 = chord.Chord(['D4','F-4', 'A4', 'C5'])\n",
    "dmaj7 = chord.Chord(['D4','F#4', 'A4', 'C#5'])\n",
    "\n",
    "c7 = d7.transpose(-2)\n",
    "cmin7 = dmin7.transpose(-2)\n",
    "cmaj7 = dmaj7.transpose(-2)\n",
    "\n",
    "g7 = d7.transpose(5)\n",
    "gmin7 = dmin7.transpose(5)\n",
    "gmaj7 = dmaj7.transpose(5)\n",
    "print(g7.pitches)\n",
    "\n",
    "stream1 = stream.Stream()\n",
    "stream1.repeatAppend(dmin7,1)\n",
    "stream1.repeatAppend(g7,1)\n",
    "stream1.repeatAppend(cmaj7,1)\n",
    "stream1.repeatAppend(cmaj7,1)\n",
    "print(stream1)\n",
    "\n",
    "name2chord = {} \n",
    "name2chord['C7'] = c7 \n",
    "name2chord['Cmin7'] = cmin7 \n",
    "name2chord['Cmaj7'] = cmaj7\n",
    "\n",
    "name2chord['D7'] = d7 \n",
    "name2chord['Dmin7'] = dmin7 \n",
    "name2chord['Dmaj7'] = dmaj7\n",
    "\n",
    "name2chord['G7'] = g7 \n",
    "name2chord['Gmin7'] = gmin7 \n",
    "name2chord['Gmaj7'] = gmaj7\n",
    "\n",
    "\n",
    "hmm_chords = stream.Stream() \n",
    "for c in chords: \n",
    "    hmm_chords.repeatAppend(name2chord[c],1)\n",
    "\n"
   ]
  },
  {
   "cell_type": "code",
   "execution_count": 21,
   "metadata": {},
   "outputs": [
    {
     "name": "stdout",
     "output_type": "stream",
     "text": [
      "['Dmin7', 'Gmaj7', 'Cmin7', 'Cmaj7', 'Gmin7', 'Cmaj7', 'Gmin7', 'Cmaj7', 'Cmin7', 'Gmaj7']\n"
     ]
    },
    {
     "data": {
      "image/png": "[encoded data removed]",
      "text/plain": [
       "<IPython.core.display.Image object>"
      ]
     },
     "metadata": {
      "image/png": {
       "height": 52,
       "width": 748
      }
     },
     "output_type": "display_data"
    }
   ],
   "source": [
    "# let's check that we can play streams of chords \n",
    "#sp = midi.realtime.StreamPlayer(stream1)\n",
    "#sp.play()\n",
    "\n",
    "# let's now play a hidden markov model generated chord sequence\n",
    "print(chords)\n",
    "hmm_chords.show()\n",
    "sp = midi.realtime.StreamPlayer(hmm_chords)\n",
    "sp.play()"
   ]
  },
  {
   "cell_type": "code",
   "execution_count": null,
   "metadata": {},
   "outputs": [],
   "source": []
  }
 ],
 "metadata": {
  "kernelspec": {
   "display_name": "Python 3",
   "language": "python",
   "name": "python3"
  },
  "language_info": {
   "codemirror_mode": {
    "name": "ipython",
    "version": 3
   },
   "file_extension": ".py",
   "mimetype": "text/x-python",
   "name": "python",
   "nbconvert_exporter": "python",
   "pygments_lexer": "ipython3",
   "version": "3.7.1"
  }
 },
 "nbformat": 4,
 "nbformat_minor": 2
}
